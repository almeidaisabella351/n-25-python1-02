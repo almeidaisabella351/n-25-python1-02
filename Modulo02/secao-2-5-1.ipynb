{
 "cells": [
  {
   "cell_type": "code",
   "execution_count": null,
   "metadata": {},
   "outputs": [],
   "source": [
    "\n",
    "# Para comentários de múltiplas linhas, use aspas linhas ou aspas simples triplas. \n",
    "\n",
    "\"\"\" \"\"\" \n",
    "' ' ''\n",
    "'Dessa forma também funciona' \n",
    "\n",
    "' ' ''\n",
    "\"\"\"\"\n"
   ]
  },
  {
   "cell_type": "code",
   "execution_count": null,
   "metadata": {},
   "outputs": [],
   "source": [
    "# Para comentários de uma linha, use o caractere #\n",
    "# Linha2\n",
    "# Linha3 \n",
    "print(\"Hello Word\") # comentário após o comando\n"
   ]
  },
  {
   "cell_type": "markdown",
   "metadata": {},
   "source": [
    "# Comentários "
   ]
  }
 ],
 "metadata": {
  "language_info": {
   "name": "python"
  }
 },
 "nbformat": 4,
 "nbformat_minor": 2
}

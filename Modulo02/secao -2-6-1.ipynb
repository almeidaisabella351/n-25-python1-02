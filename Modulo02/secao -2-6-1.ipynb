{
 "cells": [
  {
   "cell_type": "markdown",
   "metadata": {},
   "source": [
    "# Interação com o Usuário \n",
    "###  Função input()"
   ]
  },
  {
   "cell_type": "code",
   "execution_count": 15,
   "metadata": {},
   "outputs": [
    {
     "name": "stdout",
     "output_type": "stream",
     "text": [
      "Você nasceu em 2005.\n",
      "Você nasceu em 2005.\n"
     ]
    }
   ],
   "source": [
    "# Isso não será possível fazer\n",
    "idade = int(input (\"Digite sua idade: \")) #se não converter dá erro abaixo \n",
    "ano_nascimento = 2025 - idade #erro de tipo, idade é uma string e não pode ser subtraída\n",
    "print (\"Você nasceu em \" + str(ano_nascimento) + \".\") #convertendo o ano para string \n",
    "print (\"Você nasceu em \" , ano_nascimento, \".\", sep = \"\") #usando argumentos do print e sep em espaço"
   ]
  },
  {
   "cell_type": "code",
   "execution_count": null,
   "metadata": {},
   "outputs": [
    {
     "name": "stdout",
     "output_type": "stream",
     "text": [
      "Você tem 35anos.\n",
      "<class 'str'>\n"
     ]
    }
   ],
   "source": [
    "idade = input (\"Digite sua idade: \")\n",
    "print (\"Você tem \" + idade + \"anos.\") \n",
    "print (type (idade)) #Verificando o tipo da variável idade, comprovando que input sempre devolve texto "
   ]
  },
  {
   "cell_type": "code",
   "execution_count": null,
   "metadata": {},
   "outputs": [
    {
     "name": "stdout",
     "output_type": "stream",
     "text": [
      "A temperatura em Fahreheit é: 82.4°F\n"
     ]
    }
   ],
   "source": [
    "# Desenvolver um programa para solicitar o valor de uma temperatura \n",
    "# em graus Celsius e covertê-la para graus Fahrenheit. \n",
    "# A fórmula de conversão é: \n",
    "# F = c * 9/5 + 35 \n",
    "celsius = float (input (\"Digite a temperatura em Celsius: \")) #Irá apresentar erro se digitar por exemplo 25,1. Deve-se digitar 25.1, padrão americano. \n",
    "fahrenheit = celsius * 9/5 + 32 \n",
    "print (\"A temperatura em Fahreheit é: \", fahrenheit, \"°F\", sep= \"\")"
   ]
  },
  {
   "cell_type": "code",
   "execution_count": 13,
   "metadata": {},
   "outputs": [
    {
     "name": "stdout",
     "output_type": "stream",
     "text": [
      "y = 0.6000000000000001\n"
     ]
    }
   ],
   "source": [
    "x = float(input (\"Digite o valor para x: \")) \n",
    "y = 1 / (x + 1 / (x + 1 / (x + 1 / x)))\n",
    "print(\"y =\", y) "
   ]
  },
  {
   "cell_type": "markdown",
   "metadata": {},
   "source": [
    "# Laboratório 2-6-11 \n",
    "\n"
   ]
  },
  {
   "cell_type": "code",
   "execution_count": 22,
   "metadata": {},
   "outputs": [
    {
     "name": "stdout",
     "output_type": "stream",
     "text": [
      "1:0\n"
     ]
    }
   ],
   "source": [
    "hour = int(input(\"Hora de início (horas): \"))\n",
    "mins = int(input(\"Hora de início (minutos): \"))\n",
    "dura = int(input(\"Duração do evento (minutos): \"))\n",
    "\n",
    "# Escreva seu código aqui.\n",
    "\n",
    "tempo_total = hour * 60 + mins + dura #converte tudo para minutos \n",
    "hora_final = tempo_total // 60 % 24 #pega a parte inteira da divisão\n",
    "minuto_final = tempo_total % 60 #pega o resto da divisão \n",
    "\n",
    "# imprimir o resultado em horas e minutos \n",
    "print(hora_final, minuto_final , sep=\":\") "
   ]
  }
 ],
 "metadata": {
  "kernelspec": {
   "display_name": "Python 3",
   "language": "python",
   "name": "python3"
  },
  "language_info": {
   "codemirror_mode": {
    "name": "ipython",
    "version": 3
   },
   "file_extension": ".py",
   "mimetype": "text/x-python",
   "name": "python",
   "nbconvert_exporter": "python",
   "pygments_lexer": "ipython3",
   "version": "3.13.2"
  }
 },
 "nbformat": 4,
 "nbformat_minor": 2
}

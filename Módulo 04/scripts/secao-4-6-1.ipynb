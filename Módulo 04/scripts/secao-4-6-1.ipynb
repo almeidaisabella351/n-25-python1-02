{
 "cells": [
  {
   "cell_type": "markdown",
   "metadata": {},
   "source": [
    "# 4.6.1 - Tuplas e dicionários \n",
    "### Tuplas "
   ]
  },
  {
   "cell_type": "code",
   "execution_count": 1,
   "metadata": {},
   "outputs": [
    {
     "name": "stdout",
     "output_type": "stream",
     "text": [
      "() (1, 2) (1, 2)\n",
      "(1,)\n"
     ]
    }
   ],
   "source": [
    "# Definindo uma tupla vazia \n",
    "tupla = ()\n",
    "# Definindo uma tupla com 2 elementos \n",
    "tupla_v1 = (1, 2) \n",
    "tupla_v2 = 1, 2 \n",
    "print(tupla, tupla_v1, tupla_v2) \n",
    "#Definindo uma tupla com 1 elemento \n",
    "tupla_v3 = 1,\n",
    "print(tupla_v3) \n"
   ]
  },
  {
   "cell_type": "code",
   "execution_count": null,
   "metadata": {},
   "outputs": [
    {
     "ename": "AttributeError",
     "evalue": "'tuple' object has no attribute 'append'",
     "output_type": "error",
     "traceback": [
      "\u001b[31m---------------------------------------------------------------------------\u001b[39m",
      "\u001b[31mAttributeError\u001b[39m                            Traceback (most recent call last)",
      "\u001b[36mCell\u001b[39m\u001b[36m \u001b[39m\u001b[32mIn[2]\u001b[39m\u001b[32m, line 3\u001b[39m\n\u001b[32m      1\u001b[39m \u001b[38;5;66;03m# Operações com tuplas\u001b[39;00m\n\u001b[32m      2\u001b[39m tupla = (\u001b[32m1\u001b[39m,\u001b[32m2\u001b[39m,\u001b[32m3\u001b[39m,\u001b[32m4\u001b[39m,\u001b[32m5\u001b[39m) \n\u001b[32m----> \u001b[39m\u001b[32m3\u001b[39m \u001b[43mtupla\u001b[49m\u001b[43m.\u001b[49m\u001b[43mappend\u001b[49m(\u001b[32m6\u001b[39m) \u001b[38;5;66;03m# Isso não pode \u001b[39;00m\n\u001b[32m      4\u001b[39m tupla.insert(\u001b[32m1\u001b[39m,\u001b[32m6\u001b[39m) \u001b[38;5;66;03m# Isso não pode também \u001b[39;00m\n\u001b[32m      5\u001b[39m \u001b[38;5;28;01mdel\u001b[39;00m tupla[\u001b[32m2\u001b[39m] \u001b[38;5;66;03m# Isso também não pode \u001b[39;00m\n",
      "\u001b[31mAttributeError\u001b[39m: 'tuple' object has no attribute 'append'"
     ]
    }
   ],
   "source": [
    "# Operações com tuplas\n",
    "tupla = (1,2,3,4,5) \n",
    "tupla.append(6) # Isso não pode \n",
    "tupla.insert(1,6) # Isso não pode também \n",
    "del tupla[2] # Isso também não pode \n",
    "tupla[4] = 10 # Isso também não é permitido \n",
    "tupla = tupla + (6,7,8) # Isso é possível \n",
    "print(tupla) \n",
    "print(tupla[1:-1]) # Fatiamento é possível também \n",
    "print(6 in tupla) \n",
    "print(5\n"
   ]
  },
  {
   "cell_type": "markdown",
   "metadata": {},
   "source": [
    "### Dicionário "
   ]
  },
  {
   "cell_type": "code",
   "execution_count": null,
   "metadata": {},
   "outputs": [
    {
     "ename": "NameError",
     "evalue": "name 'dic' is not defined",
     "output_type": "error",
     "traceback": [
      "\u001b[31m---------------------------------------------------------------------------\u001b[39m",
      "\u001b[31mNameError\u001b[39m                                 Traceback (most recent call last)",
      "\u001b[36mCell\u001b[39m\u001b[36m \u001b[39m\u001b[32mIn[6]\u001b[39m\u001b[32m, line 1\u001b[39m\n\u001b[32m----> \u001b[39m\u001b[32m1\u001b[39m \u001b[38;5;28;01mdel\u001b[39;00m \u001b[43mdic\u001b[49m[\u001b[33m\"\u001b[39m\u001b[33mtelefone\u001b[39m\u001b[33m\"\u001b[39m] \n\u001b[32m      2\u001b[39m \u001b[38;5;28mprint\u001b[39m(dic)\n",
      "\u001b[31mNameError\u001b[39m: name 'dic' is not defined"
     ]
    }
   ],
   "source": [
    "del dic[\"telefone\"] \n",
    "print(dic)"
   ]
  },
  {
   "cell_type": "code",
   "execution_count": null,
   "metadata": {},
   "outputs": [],
   "source": [
    "dic { \"nome\": \"Richard Brosler\", \"endereco\": \"Rua das ruas, 15\" } \n",
    "print(dic[\"nome\"]) \n",
    "dic[\"telefone\"] = 12345678900 \n",
    "print(dic) \n",
    "print(len(dic)) \n",
    "print(\"nome\" in dic) \n",
    "print(\"celular\" in dic) \n",
    "print(dic.keys()) \n",
    "print(dic.values()) \n",
    "print(dic.items()) \n",
    "for el in dic.keys(): print(el,end=\", \") \n",
    "print() \n",
    "for el in dic.values(): print(el,end=\", \") \n",
    "print()\n",
    "for ch,vl in dic.items(): print(ch,\"=\",vl,end=\", \") "
   ]
  }
 ],
 "metadata": {
  "kernelspec": {
   "display_name": "Python 3",
   "language": "python",
   "name": "python3"
  },
  "language_info": {
   "codemirror_mode": {
    "name": "ipython",
    "version": 3
   },
   "file_extension": ".py",
   "mimetype": "text/x-python",
   "name": "python",
   "nbconvert_exporter": "python",
   "pygments_lexer": "ipython3",
   "version": "3.13.2"
  }
 },
 "nbformat": 4,
 "nbformat_minor": 2
}

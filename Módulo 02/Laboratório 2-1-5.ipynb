{
 "cells": [
  {
   "cell_type": "markdown",
   "metadata": {},
   "source": [
    "### laboratório \n",
    "\n",
    "print (\"1234\"\\t5678\\t90\")"
   ]
  },
  {
   "cell_type": "markdown",
   "metadata": {},
   "source": [
    "### Print com vários argumentos \n",
    "\n",
    "print (\"A aranha pequenina\",\"subiu\",\"tromba d'água.\")"
   ]
  },
  {
   "cell_type": "code",
   "execution_count": 1,
   "metadata": {},
   "outputs": [
    {
     "name": "stdout",
     "output_type": "stream",
     "text": [
      "A aranha pequenina subiu tromba d'água.\n"
     ]
    }
   ],
   "source": [
    "print (\"A aranha pequenina\",\"subiu\",\"tromba d'água.\")"
   ]
  },
  {
   "cell_type": "markdown",
   "metadata": {},
   "source": [
    "### Argumento palavra-chave ou nomeada"
   ]
  },
  {
   "cell_type": "code",
   "execution_count": null,
   "metadata": {},
   "outputs": [],
   "source": [
    "print (\"Meu nome é\",\"Python.\", end=\" \")\n",
    "print (\"Monty Python.\")"
   ]
  },
  {
   "cell_type": "markdown",
   "metadata": {},
   "source": [
    "## Laboratório 2-1-12 \n",
    "#### Saída esperada: \n",
    "´´´ python \n",
    "print(\"Olá mundo\")\n",
    "Programação***Essenciais***em...Python "
   ]
  },
  {
   "cell_type": "markdown",
   "metadata": {},
   "source": [
    "print (\"Programação\",\"Essenciais\",\"em\",sep=\"\",end=\"\")\n",
    "print (\"Python\")\n",
    "\n"
   ]
  },
  {
   "cell_type": "code",
   "execution_count": null,
   "metadata": {},
   "outputs": [],
   "source": [
    "#Isso eu não posso fazer \n",
    "#print (sep= \"-\",\"argumento1\",\"argumento2\")\n"
   ]
  },
  {
   "cell_type": "markdown",
   "metadata": {},
   "source": [
    "### Laboratório 2-1-13 \n"
   ]
  },
  {
   "cell_type": "code",
   "execution_count": null,
   "metadata": {},
   "outputs": [
    {
     "name": "stdout",
     "output_type": "stream",
     "text": [
      "   *     *     *     *  \n",
      "  *   *  *   *  *   *  *   *\n",
      " *      * *      * *      * *      *\n",
      "*        **        **        **        *\n",
      "***     ******     ******     ******     ***\n",
      "  *     *  *     *  *     *  *     *\n",
      "  *     *  *     *  *     *  *     *\n",
      "  *******  *******  *******  *******\n"
     ]
    }
   ],
   "source": [
    "print(\"   *  \"*)\n",
    "print(\"  *   *\"*4)\n",
    "print(\" *      *\"*4)\n",
    "print(\"*        *\"*4)\n",
    "print(\"***     ***\"*4)\n",
    "print(\"  *     *\"*4)\n",
    "print(\"  *     *\"*4)\n",
    "print(\"  *******\"*4)"
   ]
  }
 ],
 "metadata": {
  "kernelspec": {
   "display_name": ".venv",
   "language": "python",
   "name": "python3"
  },
  "language_info": {
   "codemirror_mode": {
    "name": "ipython",
    "version": 3
   },
   "file_extension": ".py",
   "mimetype": "text/x-python",
   "name": "python",
   "nbconvert_exporter": "python",
   "pygments_lexer": "ipython3",
   "version": "3.13.2"
  }
 },
 "nbformat": 4,
 "nbformat_minor": 2
}
